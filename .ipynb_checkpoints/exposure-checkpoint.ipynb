{
 "cells": [
  {
   "cell_type": "code",
   "execution_count": null,
   "id": "sought-numbers",
   "metadata": {},
   "outputs": [],
   "source": [
    "import numpy as np\n",
    "import matplotlib.pyplot as plt\n",
    "from pandas import merge, concat, read_csv, DataFrame, Series, isnull, date_range, read_excel, MultiIndex, cut\n",
    "from sklearn.metrics.pairwise import pairwise_distances\n",
    "from scipy.spatial import distance\n",
    "from scipy.cluster import hierarchy\n",
    "from sklearn import cluster,metrics\n",
    "from sklearn.metrics.pairwise import pairwise_distances"
   ]
  },
  {
   "cell_type": "code",
   "execution_count": null,
   "id": "nonprofit-recipe",
   "metadata": {},
   "outputs": [],
   "source": [
    "# distance metrics\n",
    "\n",
    "def fS1(x):\n",
    "    mesk = x>0.\n",
    "    return -np.sum( x[mesk]*np.log(x[mesk]) )\n",
    "\n",
    "def fS2(x, y):\n",
    "    return fS1( 0.5*(x+y) ) - 0.5*( fS1(x) + fS1(y) )"
   ]
  },
  {
   "cell_type": "code",
   "execution_count": null,
   "id": "isolated-chapter",
   "metadata": {},
   "outputs": [],
   "source": [
    "# read example input file\n",
    "\n",
    "fname_in = './data/example_exposure_input.csv'\n",
    "df = read_csv(fname_in, index_col=0)\n",
    "df.head()"
   ]
  },
  {
   "cell_type": "code",
   "execution_count": null,
   "id": "contemporary-reconstruction",
   "metadata": {},
   "outputs": [],
   "source": [
    "# parse and process data into an incidenge matrix. Each row = exposure vector\n",
    "\n",
    "ls = sorted( df['source'].unique() )\n",
    "ns = len(ls)\n",
    "print ('sources', ns)\n",
    "\n",
    "D = {}\n",
    "for x in df['target'].unique():\n",
    "    \n",
    "    temp = df[df['target'] == x].copy()\n",
    "    temp = temp.set_index('source', verify_integrity=True).reindex(ls).fillna(0.)['value'].values\n",
    "    \n",
    "    temp = temp/temp.sum()\n",
    "    D[x] = temp.copy()\n",
    "    \n",
    "lt = sorted(list(D.keys()))\n",
    "nt = len(lt)\n",
    "print ('targets', nt)\n",
    "\n",
    "data = np.row_stack([D[_] for _ in lt])\n",
    "data = DataFrame(data, index=lt, columns=ls)\n",
    "print (data.shape)\n",
    "data.head()"
   ]
  },
  {
   "cell_type": "code",
   "execution_count": null,
   "id": "stock-country",
   "metadata": {},
   "outputs": [],
   "source": [
    "# compute pairwise distances using the previously defined metrics\n",
    "\n",
    "MD = pairwise_distances(data, metric=fS2)\n",
    "print (MD.shape)"
   ]
  },
  {
   "cell_type": "code",
   "execution_count": null,
   "id": "magnetic-database",
   "metadata": {},
   "outputs": [],
   "source": [
    "# agglomerative clustering\n",
    "\n",
    "MDc = MD[np.triu_indices_from(MD, 1)]\n",
    "Z = hierarchy.linkage(MDc, method='complete')"
   ]
  },
  {
   "cell_type": "code",
   "execution_count": null,
   "id": "welsh-server",
   "metadata": {},
   "outputs": [],
   "source": [
    "# plot dendrogram, with cut\n",
    "\n",
    "AGGLO_CUT = 0.5  # set cut height\n",
    "\n",
    "fig,ax = plt.subplots(figsize=(13,10))\n",
    "labels = data.index\n",
    "res = hierarchy.dendrogram(Z, labels=labels, leaf_rotation=90,ax=ax, color_threshold=AGGLO_CUT*max(Z[:,2]))\n",
    "\n",
    "ax.axhline(AGGLO_CUT*max(Z[:,2]), linestyle='--', color='k')\n",
    "\n",
    "for s in ax.get_xticklabels():\n",
    "    s.set_weight('bold')\n"
   ]
  },
  {
   "cell_type": "code",
   "execution_count": null,
   "id": "standing-engineer",
   "metadata": {},
   "outputs": [],
   "source": [
    "# assign to clusters, at given cut (previously set)\n",
    "\n",
    "data_cl = DataFrame(hierarchy.fcluster(Z, AGGLO_CUT*max(Z[:,2]), criterion='distance')-1,\n",
    "                    index=data.index,columns=['agglomerative'])\n",
    "N_cluster = len( data_cl['agglomerative'].unique() )\n",
    "print ('number of clusters: {}'.format( N_cluster ) )\n",
    "clusizes = mydf.countcol(data_cl, 'agglomerative').set_index('agglomerative')['COUNT']\n",
    "data_cl = data_cl['agglomerative']\n",
    "data_cl.head()"
   ]
  },
  {
   "cell_type": "code",
   "execution_count": null,
   "id": "abroad-tampa",
   "metadata": {},
   "outputs": [],
   "source": [
    "# save data\n",
    "\n",
    "DataFrame({'cluster': data_cl}).to_csv('./data/exposure_out/cluster_assignment.csv')\n",
    "DataFrame({'size': clusizes}).to_csv('./data/exposure_out/cluster_size.csv')\n",
    "DataFrame(MD, index=data.index, columns=data.index).to_csv('./data/exposure_out/pairwise_distance.csv')"
   ]
  },
  {
   "cell_type": "code",
   "execution_count": null,
   "id": "assured-washer",
   "metadata": {},
   "outputs": [],
   "source": []
  }
 ],
 "metadata": {
  "kernelspec": {
   "display_name": "Python 3",
   "language": "python",
   "name": "python3"
  },
  "language_info": {
   "codemirror_mode": {
    "name": "ipython",
    "version": 3
   },
   "file_extension": ".py",
   "mimetype": "text/x-python",
   "name": "python",
   "nbconvert_exporter": "python",
   "pygments_lexer": "ipython3",
   "version": "3.8.2"
  }
 },
 "nbformat": 4,
 "nbformat_minor": 5
}
