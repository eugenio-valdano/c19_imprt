{
 "cells": [
  {
   "cell_type": "code",
   "execution_count": 2,
   "metadata": {},
   "outputs": [],
   "source": []
  },
  {
   "cell_type": "code",
   "execution_count": 93,
   "metadata": {},
   "outputs": [],
   "source": [
    "#import library\n",
    "import os\n",
    "\n",
    "import numpy as np\n",
    "import pandas as pd\n",
    "import geopandas as gpd\n",
    "import reverse_geocode\n",
    "from pycountry_convert import country_name_to_country_alpha2, convert_continent_code_to_continent_name, country_name_to_country_alpha3\n",
    "from pycountry_convert.convert_country_alpha2_to_continent_code import country_alpha2_to_continent_code\n"
   ]
  },
  {
   "cell_type": "code",
   "execution_count": 152,
   "metadata": {},
   "outputs": [],
   "source": [
    "#INPUT FILES\n",
    "inc=pd.read_csv('./data/cases_20200211_china_JH.csv')\n",
    "pop=pd.read_csv('./data/population_by_province_China.csv')\n",
    "#traffic volumes and pop for cities with top 3 airports in each Chinease province\n",
    "df=pd.read_csv('./data/province_airport_pop_traffic.csv')"
   ]
  },
  {
   "cell_type": "code",
   "execution_count": 153,
   "metadata": {},
   "outputs": [],
   "source": [
    "inc_pop=inc.merge(pop,left_on='province',right_on='province')\n",
    "inc_pop['inc']=inc_pop['cases']/inc_pop['population']\n",
    "province_to_inc = pd.Series(inc_pop.inc.values, index = inc_pop.province).to_dict()"
   ]
  },
  {
   "cell_type": "markdown",
   "metadata": {},
   "source": [
    "## Compute risk from i to $\\alpha$  ( See SI)"
   ]
  },
  {
   "cell_type": "markdown",
   "metadata": {},
   "source": [
    "## $r_{i\\alpha}=\\frac{e_{i}n_{i}A_{i\\alpha}}{\\sum_{j}e_{i}n_{i}}$ "
   ]
  },
  {
   "cell_type": "code",
   "execution_count": null,
   "metadata": {},
   "outputs": [],
   "source": []
  },
  {
   "cell_type": "code",
   "execution_count": 155,
   "metadata": {},
   "outputs": [
    {
     "data": {
      "text/html": [
       "<div>\n",
       "<style scoped>\n",
       "    .dataframe tbody tr th:only-of-type {\n",
       "        vertical-align: middle;\n",
       "    }\n",
       "\n",
       "    .dataframe tbody tr th {\n",
       "        vertical-align: top;\n",
       "    }\n",
       "\n",
       "    .dataframe thead th {\n",
       "        text-align: right;\n",
       "    }\n",
       "</style>\n",
       "<table border=\"1\" class=\"dataframe\">\n",
       "  <thead>\n",
       "    <tr style=\"text-align: right;\">\n",
       "      <th></th>\n",
       "      <th>province</th>\n",
       "      <th>airport</th>\n",
       "      <th>traffic</th>\n",
       "      <th>incidence_density</th>\n",
       "      <th>weight</th>\n",
       "    </tr>\n",
       "  </thead>\n",
       "  <tbody>\n",
       "    <tr>\n",
       "      <th>0</th>\n",
       "      <td>Xinjiang</td>\n",
       "      <td>Karamay</td>\n",
       "      <td>590497.0</td>\n",
       "      <td>2.372336e-06</td>\n",
       "      <td>1.400857</td>\n",
       "    </tr>\n",
       "    <tr>\n",
       "      <th>1</th>\n",
       "      <td>Xinjiang</td>\n",
       "      <td>Urumqi</td>\n",
       "      <td>23027788.0</td>\n",
       "      <td>2.372336e-06</td>\n",
       "      <td>54.629654</td>\n",
       "    </tr>\n",
       "    <tr>\n",
       "      <th>2</th>\n",
       "      <td>Xinjiang</td>\n",
       "      <td>Kashi</td>\n",
       "      <td>2060100.0</td>\n",
       "      <td>2.372336e-06</td>\n",
       "      <td>4.887250</td>\n",
       "    </tr>\n",
       "    <tr>\n",
       "      <th>3</th>\n",
       "      <td>Tibet</td>\n",
       "      <td>Lhasa</td>\n",
       "      <td>4353948.0</td>\n",
       "      <td>3.134109e-07</td>\n",
       "      <td>1.364575</td>\n",
       "    </tr>\n",
       "    <tr>\n",
       "      <th>4</th>\n",
       "      <td>Tibet</td>\n",
       "      <td>Xigaze</td>\n",
       "      <td>81349.0</td>\n",
       "      <td>3.134109e-07</td>\n",
       "      <td>0.025496</td>\n",
       "    </tr>\n",
       "  </tbody>\n",
       "</table>\n",
       "</div>"
      ],
      "text/plain": [
       "   province  airport     traffic  incidence_density     weight\n",
       "0  Xinjiang  Karamay    590497.0       2.372336e-06   1.400857\n",
       "1  Xinjiang   Urumqi  23027788.0       2.372336e-06  54.629654\n",
       "2  Xinjiang    Kashi   2060100.0       2.372336e-06   4.887250\n",
       "3     Tibet    Lhasa   4353948.0       3.134109e-07   1.364575\n",
       "4     Tibet   Xigaze     81349.0       3.134109e-07   0.025496"
      ]
     },
     "execution_count": 155,
     "metadata": {},
     "output_type": "execute_result"
    }
   ],
   "source": [
    "df['incidence_density'] = df['province'].map(province_to_inc) #  e_i\n",
    "df['weight'] =  df['incidence_density'] * df['traffic'] #  e_i * n_i\n",
    "df=df[['province', 'airport', 'traffic', 'incidence_density','weight']]\n",
    "\n",
    "city_to_weight = pd.Series(df.weight.values, index = df.airport.values).to_dict() # maps airport to weight\n",
    "\n",
    "\n",
    "df.head()"
   ]
  },
  {
   "cell_type": "code",
   "execution_count": null,
   "metadata": {},
   "outputs": [],
   "source": []
  },
  {
   "cell_type": "code",
   "execution_count": 156,
   "metadata": {},
   "outputs": [],
   "source": [
    "# function to select African countries from epirsik data\n",
    "def select_Africa(aa):\n",
    "    aa['continent'] = aa['countries']\n",
    "    aa['continent'].replace({\"Cote d'Ivoire\": 'Ivory Coast'}, inplace = True)\n",
    "    aa['continent'] = aa['continent'].apply(lambda x: country_name_to_country_alpha2(x) )\n",
    "    aa['continent'] = aa['continent'].apply(lambda x: country_alpha2_to_continent_code(x) )\n",
    "    aa['continent'] = aa['continent'].apply(lambda x: convert_continent_code_to_continent_name(x))  \n",
    "    aa = aa[aa['continent'] == \"Africa\"]\n",
    "    return aa"
   ]
  },
  {
   "cell_type": "code",
   "execution_count": 157,
   "metadata": {},
   "outputs": [],
   "source": [
    "airport_to_weight = pd.Series(df.weight.values, index = df.airport.values).to_dict() "
   ]
  },
  {
   "cell_type": "code",
   "execution_count": 158,
   "metadata": {},
   "outputs": [],
   "source": [
    "path = './data/Risk_from_epirisk/'\n",
    "month = 'January'\n",
    "\n",
    "tmp2 = pd.DataFrame()\n",
    "for airpt in df.airport.unique():\n",
    "    tmp = pd.read_csv( os.path.join( path, 'epirisk_{}_{}.csv'.format(airpt, month)))\n",
    "    tmp[\"cord\"]=list(zip(tmp[\"lat\"],tmp[\"lng\"]))\n",
    "    coordinates = list(tmp[\"cord\"])\n",
    "    countries=[reverse_geocode.search(coordinates)[i]['country'] for i in range(len(coordinates))]\n",
    "    tmp['countries']=countries\n",
    "    \n",
    "    # to normlize risk we considered all countries outside China\n",
    "    tmp=tmp[tmp[\"countries\"]!=\"China\"]\n",
    "    tmp=tmp[tmp[\"countries\"]!=\"Taiwan\"]\n",
    "    tmp=tmp[tmp[\"countries\"]!=\"Hong Kong\"]\n",
    "    tmp=tmp[tmp[\"countries\"]!=\"Macau\"]\n",
    "    \n",
    "    tmp['seed'] = airpt\n",
    "    tot=tmp.risk.sum()\n",
    "    tmp['epirisk_norm'] = tmp['risk']/tot\n",
    "    tmp2=tmp2.append(tmp)\n",
    "tmp2=tmp2[tmp2['countries']!='Timor-Leste'] # we deleted as it is not mapped in pycountry_convert libraries"
   ]
  },
  {
   "cell_type": "code",
   "execution_count": null,
   "metadata": {},
   "outputs": [],
   "source": []
  },
  {
   "cell_type": "code",
   "execution_count": 159,
   "metadata": {},
   "outputs": [],
   "source": [
    "tmp3 = select_Africa(tmp2)\n",
    "tmp3=tmp3.merge(df,left_on=\"seed\",right_on='airport',how='left')\n",
    "tmp3[\"num\"]=tmp3[\"weight\"]*tmp3[\"epirisk_norm\"] #  e_i * n_i * A_iα"
   ]
  },
  {
   "cell_type": "code",
   "execution_count": null,
   "metadata": {},
   "outputs": [],
   "source": []
  },
  {
   "cell_type": "code",
   "execution_count": 163,
   "metadata": {},
   "outputs": [],
   "source": [
    "den2 = 0\n",
    "for city in tmp3.seed.unique():\n",
    "    den2 += city_to_weight[city] #  summing e_i * n_i "
   ]
  },
  {
   "cell_type": "code",
   "execution_count": null,
   "metadata": {},
   "outputs": [],
   "source": []
  },
  {
   "cell_type": "code",
   "execution_count": 166,
   "metadata": {},
   "outputs": [],
   "source": [
    "tmp3[\"value\"]=tmp3[\"num\"]/den2 # importation risk per each city\n",
    "tmp3['countries'].replace({\"Cote d'Ivoire\": 'Ivory Coast'}, inplace = True)\n",
    "tmp3['continent']=tmp3['countries'].apply(lambda x: country_name_to_country_alpha2(x) )\n",
    "tmp3['continent']=tmp3['continent'].apply(lambda x: country_alpha2_to_continent_code(x))\n",
    "tmp3['ISO3'] = tmp3['countries'].apply(lambda x: country_name_to_country_alpha3(x) )"
   ]
  },
  {
   "cell_type": "code",
   "execution_count": null,
   "metadata": {},
   "outputs": [],
   "source": []
  },
  {
   "cell_type": "code",
   "execution_count": 167,
   "metadata": {},
   "outputs": [],
   "source": [
    "### compute importation risk per each country"
   ]
  },
  {
   "cell_type": "code",
   "execution_count": 144,
   "metadata": {},
   "outputs": [],
   "source": [
    "drisk = tmp3.groupby(['countries'])['num'].sum() / den2\n",
    "drisk1 = tmp3.groupby(['countries'])['num'].sum() "
   ]
  },
  {
   "cell_type": "code",
   "execution_count": 145,
   "metadata": {},
   "outputs": [],
   "source": [
    "df=pd.DataFrame(drisk).reset_index()\n",
    "df=df[['countries','num']]\n",
    "df.columns=['countries','risk']\n",
    "df['countries'].replace({\"Cote d'Ivoire\": 'Ivory Coast'}, inplace = True)\n",
    "df['ISO3'] = df['countries'].apply(lambda x: country_name_to_country_alpha3(x) )"
   ]
  },
  {
   "cell_type": "code",
   "execution_count": 150,
   "metadata": {},
   "outputs": [
    {
     "data": {
      "text/html": [
       "<div>\n",
       "<style scoped>\n",
       "    .dataframe tbody tr th:only-of-type {\n",
       "        vertical-align: middle;\n",
       "    }\n",
       "\n",
       "    .dataframe tbody tr th {\n",
       "        vertical-align: top;\n",
       "    }\n",
       "\n",
       "    .dataframe thead th {\n",
       "        text-align: right;\n",
       "    }\n",
       "</style>\n",
       "<table border=\"1\" class=\"dataframe\">\n",
       "  <thead>\n",
       "    <tr style=\"text-align: right;\">\n",
       "      <th></th>\n",
       "      <th>countries</th>\n",
       "      <th>risk</th>\n",
       "      <th>ISO3</th>\n",
       "    </tr>\n",
       "  </thead>\n",
       "  <tbody>\n",
       "    <tr>\n",
       "      <th>0</th>\n",
       "      <td>Algeria</td>\n",
       "      <td>0.002342</td>\n",
       "      <td>DZA</td>\n",
       "    </tr>\n",
       "    <tr>\n",
       "      <th>1</th>\n",
       "      <td>Angola</td>\n",
       "      <td>0.000622</td>\n",
       "      <td>AGO</td>\n",
       "    </tr>\n",
       "    <tr>\n",
       "      <th>2</th>\n",
       "      <td>Botswana</td>\n",
       "      <td>0.000014</td>\n",
       "      <td>BWA</td>\n",
       "    </tr>\n",
       "    <tr>\n",
       "      <th>3</th>\n",
       "      <td>Cameroon</td>\n",
       "      <td>0.000194</td>\n",
       "      <td>CMR</td>\n",
       "    </tr>\n",
       "    <tr>\n",
       "      <th>4</th>\n",
       "      <td>Chad</td>\n",
       "      <td>0.000258</td>\n",
       "      <td>TCD</td>\n",
       "    </tr>\n",
       "  </tbody>\n",
       "</table>\n",
       "</div>"
      ],
      "text/plain": [
       "  countries      risk ISO3\n",
       "0   Algeria  0.002342  DZA\n",
       "1    Angola  0.000622  AGO\n",
       "2  Botswana  0.000014  BWA\n",
       "3  Cameroon  0.000194  CMR\n",
       "4      Chad  0.000258  TCD"
      ]
     },
     "execution_count": 150,
     "metadata": {},
     "output_type": "execute_result"
    }
   ],
   "source": [
    "df.head()"
   ]
  },
  {
   "cell_type": "code",
   "execution_count": null,
   "metadata": {},
   "outputs": [],
   "source": []
  }
 ],
 "metadata": {
  "kernelspec": {
   "display_name": "Python 3",
   "language": "python",
   "name": "python3"
  },
  "language_info": {
   "codemirror_mode": {
    "name": "ipython",
    "version": 3
   },
   "file_extension": ".py",
   "mimetype": "text/x-python",
   "name": "python",
   "nbconvert_exporter": "python",
   "pygments_lexer": "ipython3",
   "version": "3.8.2"
  }
 },
 "nbformat": 4,
 "nbformat_minor": 2
}
